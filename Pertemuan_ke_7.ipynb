{
  "nbformat": 4,
  "nbformat_minor": 0,
  "metadata": {
    "colab": {
      "name": "Pertemuan ke-7.ipynb",
      "provenance": [],
      "collapsed_sections": [],
      "authorship_tag": "ABX9TyMAOkbjjvsFIJFOgjoCnezz",
      "include_colab_link": true
    },
    "kernelspec": {
      "display_name": "Python 3",
      "name": "python3"
    },
    "language_info": {
      "name": "python"
    }
  },
  "cells": [
    {
      "cell_type": "markdown",
      "metadata": {
        "id": "view-in-github",
        "colab_type": "text"
      },
      "source": [
        "<a href=\"https://colab.research.google.com/github/citraFebriawirti/python_dasar_kk/blob/main/Pertemuan_ke_7.ipynb\" target=\"_parent\"><img src=\"https://colab.research.google.com/assets/colab-badge.svg\" alt=\"Open In Colab\"/></a>"
      ]
    },
    {
      "cell_type": "markdown",
      "metadata": {
        "id": "LVDB1r3G44ic"
      },
      "source": [
        "#If....Else\n",
        "###Python supports the usual logical conditions"
      ]
    },
    {
      "cell_type": "markdown",
      "metadata": {
        "id": "xcJRxqPh7_xQ"
      },
      "source": [
        "<li> Equals: a == b </li>\n",
        "<li>Not Equals: a != b </li>\n",
        "<li>Less than: a < b </li>\n",
        "<li>Less than or equal to: a <= b </li>\n",
        "<li>Greater than: a > b </li>\n",
        "<li>Greater than or equal to: a >= b </li>"
      ]
    },
    {
      "cell_type": "code",
      "metadata": {
        "colab": {
          "base_uri": "https://localhost:8080/"
        },
        "id": "MbiGN5sU40NM",
        "outputId": "5a70c108-70bc-4a74-ed47-349b9432ad2e"
      },
      "source": [
        "bunga1= 90\n",
        "bunga2= 90\n",
        "\n",
        "if bunga1 == bunga2:\n",
        " print(\"ini adalah equals\")"
      ],
      "execution_count": null,
      "outputs": [
        {
          "output_type": "stream",
          "name": "stdout",
          "text": [
            "ini adalah equals\n"
          ]
        }
      ]
    },
    {
      "cell_type": "code",
      "metadata": {
        "colab": {
          "base_uri": "https://localhost:8080/"
        },
        "id": "pYjcMZvVFC7i",
        "outputId": "c57aa809-6d34-4677-ec23-5d52332ccce4"
      },
      "source": [
        "bunga1 = 75\n",
        "bunga2 = 80\n",
        "\n",
        "if bunga1 != bunga2:\n",
        "  print(\"ini adalah not equals\")"
      ],
      "execution_count": 52,
      "outputs": [
        {
          "output_type": "stream",
          "name": "stdout",
          "text": [
            "ini adalah not equals\n"
          ]
        }
      ]
    },
    {
      "cell_type": "code",
      "metadata": {
        "colab": {
          "base_uri": "https://localhost:8080/"
        },
        "id": "R6_ciRYpR_Wa",
        "outputId": "1dd08a73-97ba-4719-ae2d-8c3e038b9f96"
      },
      "source": [
        "bunga1 = 75\n",
        "bunga2 = 80\n",
        "\n",
        "if bunga1 < bunga2:\n",
        "  print(\"ini adalah less than\")"
      ],
      "execution_count": 54,
      "outputs": [
        {
          "output_type": "stream",
          "name": "stdout",
          "text": [
            "ini adalah less than\n"
          ]
        }
      ]
    },
    {
      "cell_type": "code",
      "metadata": {
        "id": "i1x2f8fdSSdJ"
      },
      "source": [
        "bunga1 = 75\n",
        "bunga2 = 40\n",
        "\n",
        "if bunga1 <= bunga2:\n",
        "  print(\"ini adalah less than equal to\")"
      ],
      "execution_count": 58,
      "outputs": []
    },
    {
      "cell_type": "code",
      "metadata": {
        "colab": {
          "base_uri": "https://localhost:8080/"
        },
        "id": "xygLmE3ySoUC",
        "outputId": "ad1c0a61-7b4c-4c88-895d-a4b4c6b5599a"
      },
      "source": [
        "bunga1 = 90\n",
        "bunga2 = 80\n",
        "\n",
        "if bunga1 > bunga2:\n",
        "  print(\"ini adalah Grater than\")"
      ],
      "execution_count": 62,
      "outputs": [
        {
          "output_type": "stream",
          "name": "stdout",
          "text": [
            "ini adalah Grater than\n"
          ]
        }
      ]
    },
    {
      "cell_type": "code",
      "metadata": {
        "colab": {
          "base_uri": "https://localhost:8080/"
        },
        "id": "WeFkOYzUS5VR",
        "outputId": "1ee74c7c-b304-432b-f53e-181fb816d97a"
      },
      "source": [
        "bunga1 = 90\n",
        "bunga2 = 80\n",
        "\n",
        "if bunga1 >= bunga2:\n",
        "  print(\"ini adalah Grater than equal to\")"
      ],
      "execution_count": 65,
      "outputs": [
        {
          "output_type": "stream",
          "name": "stdout",
          "text": [
            "ini adalah Grater than equal to\n"
          ]
        }
      ]
    },
    {
      "cell_type": "code",
      "metadata": {
        "colab": {
          "base_uri": "https://localhost:8080/"
        },
        "id": "LsRmbsF6TZT7",
        "outputId": "e38cc673-7551-448a-bf2f-63605a1810ef"
      },
      "source": [
        "#masting if(if di dalam if)\n",
        "bunga1 = 75\n",
        "bunga2 = 80\n",
        "\n",
        "\n",
        "if bunga1 == 75:\n",
        "  print(\"jumlah bunga sebanyak : \",bunga1)\n",
        "  print(\"step 1\")\n",
        "  if bunga2 == 60:\n",
        "    print(\"jumlah bunga sebanyak : \",bunga2)\n",
        "    print(\"step 2\")"
      ],
      "execution_count": 73,
      "outputs": [
        {
          "output_type": "stream",
          "name": "stdout",
          "text": [
            "jumlah bunga sebanyak :  75\n",
            "step 1\n"
          ]
        }
      ]
    },
    {
      "cell_type": "code",
      "metadata": {
        "colab": {
          "base_uri": "https://localhost:8080/"
        },
        "id": "ZFmT3cz4VPpJ",
        "outputId": "4b3ecddb-5c87-4de8-d40d-9bcfc9eb9a58"
      },
      "source": [
        "#masting if(if di dalam if)\n",
        "bunga1 = 75\n",
        "bunga2 = 80\n",
        "\n",
        "\n",
        "if bunga1 == 75:\n",
        "  print(\"jumlah bunga sebanyak : \",bunga1)\n",
        "  print(\"step 1\")\n",
        "  if bunga2 == 80:\n",
        "    print(\"jumlah bunga sebanyak : \",bunga2)\n",
        "    print(\"step 2\")"
      ],
      "execution_count": 74,
      "outputs": [
        {
          "output_type": "stream",
          "name": "stdout",
          "text": [
            "jumlah bunga sebanyak :  75\n",
            "step 1\n",
            "jumlah bunga sebanyak :  80\n",
            "step 2\n"
          ]
        }
      ]
    },
    {
      "cell_type": "code",
      "metadata": {
        "colab": {
          "base_uri": "https://localhost:8080/"
        },
        "id": "2I-1FJJFVn0B",
        "outputId": "7737667e-520f-49bb-f0e4-87c2954558b9"
      },
      "source": [
        "#masting if(if di dalam if)\n",
        "bunga1 = 75\n",
        "bunga2 = 80\n",
        "\n",
        "\n",
        "if bunga1 == 75:\n",
        "  print(\"jumlah bunga sebanyak : \",bunga1)\n",
        "  print(\"step 1\")\n",
        "  \n",
        "if bunga2 == 80:\n",
        "  print(\"jumlah bunga sebanyak : \",bunga2)\n",
        "  print(\"step 2\")"
      ],
      "execution_count": 75,
      "outputs": [
        {
          "output_type": "stream",
          "name": "stdout",
          "text": [
            "Jumlah bunga sebanyak :  75\n"
          ]
        }
      ]
    },
    {
      "cell_type": "code",
      "metadata": {
        "colab": {
          "base_uri": "https://localhost:8080/"
        },
        "id": "Uqn81_SiUuFy",
        "outputId": "9154f8b0-1391-4a27-cd9c-a259e1d6a157"
      },
      "source": [
        "#menngunakan natural languange\n",
        "bunga1 = 75\n",
        "\n",
        "if bunga1 == 60:\n",
        "  print(\"jumlah bunga sebanyak : \",bunga1)\n",
        " \n",
        "  \n",
        "if bunga1 is 75:\n",
        "  print(\"jumlah bunga sebanyak : \",bunga1)\n",
        " "
      ],
      "execution_count": 77,
      "outputs": [
        {
          "output_type": "stream",
          "name": "stdout",
          "text": [
            "jumlah bunga sebanyak :  75\n"
          ]
        }
      ]
    },
    {
      "cell_type": "code",
      "metadata": {
        "colab": {
          "base_uri": "https://localhost:8080/"
        },
        "id": "BYeN1iUGXkLp",
        "outputId": "5cc8e34a-29be-47aa-9d47-287e3c402c83"
      },
      "source": [
        "#mengunakan natural language\n",
        "bunga1 = 50\n",
        "\n",
        "if bunga1 == 60:\n",
        "  print(\"jumlah bunga sebanyak : \",bunga1)\n",
        " \n",
        "if bunga1 is 75:\n",
        "  print(\"jumlah bunga sebanyak : \",bunga1)\n",
        "\n",
        "if bunga1 is not 75:\n",
        "  print(\"jumlah bunga sebanyak : \",bunga1)\n",
        "\n",
        "\n",
        " "
      ],
      "execution_count": 81,
      "outputs": [
        {
          "output_type": "stream",
          "name": "stdout",
          "text": [
            "jumlah bunga sebanyak :  50\n"
          ]
        }
      ]
    },
    {
      "cell_type": "code",
      "metadata": {
        "colab": {
          "base_uri": "https://localhost:8080/"
        },
        "id": "pJyAh_DDYMvQ",
        "outputId": "368d32e9-1d75-4560-e3b3-1097c2c693c4"
      },
      "source": [
        "bunga = 60\n",
        "\n",
        "if 80 <= bunga <= 100:\n",
        "  print(\"Anda mendapatkan Point A\")\n",
        "elif 70 <= bunga < 80:\n",
        "  print(\"Anda mendapatkan Point B\")\n",
        "elif 60 <= bunga < 70:\n",
        "  print(\"Anda mendapatkan Point C\")\n",
        "elif 50 <= bunga < 60:\n",
        "  print(\"Anda mendapatkan Point D, dan lakukan pengulangan\")\n",
        "else:\n",
        "  print(\"Maaf anda tidak mendapatkan point\")\n"
      ],
      "execution_count": 88,
      "outputs": [
        {
          "output_type": "stream",
          "name": "stdout",
          "text": [
            "anda mendapatkan Point C\n"
          ]
        }
      ]
    }
  ]
}